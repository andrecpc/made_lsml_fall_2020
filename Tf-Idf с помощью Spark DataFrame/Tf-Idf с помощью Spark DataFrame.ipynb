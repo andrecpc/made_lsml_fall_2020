{
 "cells": [
  {
   "cell_type": "code",
   "execution_count": null,
   "metadata": {},
   "outputs": [],
   "source": [
    "import org.apache.spark.sql._\n",
    "\n",
    "val spark = SparkSession.builder()\n",
    "    .master(\"local[*]\")\n",
    "    .appName(\"hw6\")\n",
    "    .getOrCreate()\n",
    "\n",
    "import spark.implicits._\n",
    "import org.apache.spark.sql.types._\n",
    "import org.apache.spark.sql.functions._\n",
    "import org.apache.spark.sql.functions.lower\n",
    "import org.apache.spark.sql.expressions.Window\n",
    "import org.apache.spark.sql.functions.regexp_replace"
   ]
  },
  {
   "cell_type": "code",
   "execution_count": null,
   "metadata": {},
   "outputs": [],
   "source": [
    "var file = spark.read.options(Map(\"inferSchema\"->\"true\",\"delimiter\"->\",\",\"header\"->\"true\"))\n",
    "  .csv(\"tripadvisor_hotel_reviews.csv\")"
   ]
  },
  {
   "cell_type": "code",
   "execution_count": null,
   "metadata": {},
   "outputs": [],
   "source": [
    "file = file.drop(\"Rating\")\n",
    "file = file.withColumn(\"Review\", regexp_replace(file(\"Review\"), \"[,.!?:;*-_]\", \"\"))\n",
    "file = file.withColumn(\"Review\", regexp_replace(file(\"Review\"), \"[0-9]\", \"\"))\n",
    "file = file.withColumn(\"Review\", lower($\"Review\"))"
   ]
  },
  {
   "cell_type": "code",
   "execution_count": null,
   "metadata": {},
   "outputs": [],
   "source": [
    "file = file.withColumn(\"Review_list\", split(col(\"Review\"), pattern=\" \").as[Array[String]])\n",
    "file = file.withColumn(\"len_review_list\", size(col(\"Review_list\")))\n",
    "file = file.withColumn(\"review_id\", monotonically_increasing_id())\n",
    "file.show(3)"
   ]
  },
  {
   "cell_type": "code",
   "execution_count": null,
   "metadata": {},
   "outputs": [],
   "source": [
    "var tf = file.select($\"review_id\", $\"len_review_list\", explode($\"Review_list\"))\n",
    "tf = tf.withColumnRenamed(\"col\",\"word_tf\")\n",
    "tf = tf.groupBy(\"review_id\", \"len_review_list\", \"word_tf\").count().orderBy(\"review_id\")\n",
    "tf = tf.withColumn(\"tf\", col(\"count\")/col(\"len_review_list\"))\n",
    "tf.show(6)"
   ]
  },
  {
   "cell_type": "code",
   "execution_count": null,
   "metadata": {},
   "outputs": [],
   "source": [
    "var idf = tf.groupBy(\"word_tf\").count()\n",
    "idf = idf.withColumnRenamed(\"word_tf\",\"word_idf\")\n",
    "idf.show(6)"
   ]
  },
  {
   "cell_type": "code",
   "execution_count": null,
   "metadata": {},
   "outputs": [],
   "source": [
    "val len_file = file.count"
   ]
  },
  {
   "cell_type": "code",
   "execution_count": null,
   "metadata": {},
   "outputs": [],
   "source": [
    "idf = idf.withColumn(\"idf\", log(lit(len_file))-log(col(\"count\")))\n",
    "idf.show(6)"
   ]
  },
  {
   "cell_type": "code",
   "execution_count": null,
   "metadata": {},
   "outputs": [],
   "source": [
    "var top_100 = idf.orderBy(desc(\"count\")).filter($\"word_idf\" !== \"\").limit(100).drop(\"count\")\n",
    "top_100.show(5)"
   ]
  },
  {
   "cell_type": "code",
   "execution_count": null,
   "metadata": {},
   "outputs": [],
   "source": [
    "var tf_top_100 = top_100.join(tf, top_100(\"word_idf\") === tf(\"word_tf\"))\n",
    "tf_top_100 = tf_top_100.drop(\"word_idf\", \"idf\")\n",
    "tf_top_100.show(10)"
   ]
  },
  {
   "cell_type": "code",
   "execution_count": null,
   "metadata": {},
   "outputs": [],
   "source": [
    "var tf_idf = tf_top_100.join(idf, tf_top_100(\"word_tf\")===idf(\"word_idf\"))\n",
    "tf_idf = tf_idf.withColumn(\"tf-idf\", col(\"tf\")*col(\"idf\"))\n",
    "tf_idf = tf_idf.drop(\"len_review_list\", \"word_tf\", \"count\", \"tf\", \"idf\")\n",
    "tf_idf = tf_idf.withColumnRenamed(\"word_idf\",\"word\")\n",
    "tf_idf.show(3)"
   ]
  },
  {
   "cell_type": "code",
   "execution_count": null,
   "metadata": {},
   "outputs": [],
   "source": [
    "val pivot_table = tf_idf.groupBy(\"review_id\").pivot(\"word\").sum(\"tf-idf\")"
   ]
  },
  {
   "cell_type": "code",
   "execution_count": null,
   "metadata": {},
   "outputs": [],
   "source": [
    "pivot_table.show(1)"
   ]
  }
 ],
 "metadata": {
  "kernelspec": {
   "display_name": "Scala (2.13)",
   "language": "scala",
   "name": "scala213"
  },
  "language_info": {
   "codemirror_mode": "text/x-scala",
   "file_extension": ".sc",
   "mimetype": "text/x-scala",
   "name": "scala",
   "nbconvert_exporter": "script",
   "version": "2.13.3"
  }
 },
 "nbformat": 4,
 "nbformat_minor": 4
}
